{
  "nbformat": 4,
  "nbformat_minor": 0,
  "metadata": {
    "colab": {
      "provenance": [],
      "authorship_tag": "ABX9TyN0WIO3XwAMtoMnwhBDMcgd",
      "include_colab_link": true
    },
    "kernelspec": {
      "name": "ir",
      "display_name": "R"
    },
    "language_info": {
      "name": "R"
    }
  },
  "cells": [
    {
      "cell_type": "markdown",
      "metadata": {
        "id": "view-in-github",
        "colab_type": "text"
      },
      "source": [
        "<a href=\"https://colab.research.google.com/github/Fagner608/MBA_apriori_with_R/blob/main/MBA_APRIORI.ipynb\" target=\"_parent\"><img src=\"https://colab.research.google.com/assets/colab-badge.svg\" alt=\"Open In Colab\"/></a>"
      ]
    },
    {
      "cell_type": "markdown",
      "source": [
        "Vamos trabalhar com um dataset de vendas on-line de alguns países da Europa. Ao final, teremos conhecimento das assossiações existentes entre os itens mais vendidos, o que poderá nos levar à um modelo de recomendação de compra.\n",
        "\n",
        "## Sobre o conjunto de dados\n",
        "\n",
        "Fonte: [UCI Machine Learning Repository](http://archive.ics.uci.edu/ml/machine-learning-databases/00352/Online%20Retail.xlsx)\n",
        "\n",
        "Este dataset contém dados de varejo, e fornece dados de transações de um site com base no Reuni Unido.\n",
        "\n",
        "## Motivação\n",
        "\n",
        "Com base nas transações já registradas, queremos recomendar ao cliente compras que são bastante prováveis. Desta forma, estaremos aumentando o ticke-médio/cliente.\n",
        "\n",
        "## Iniciando análise:"
      ],
      "metadata": {
        "id": "qhU0MTWfTslo"
      }
    },
    {
      "cell_type": "code",
      "source": [
        "# Instalando pacotes\n",
        "install.packages('htmlwidgets')\n",
        "install.packages('data.table')\n",
        "install.packages('arules')\n",
        "#install.packages('arulesViz')\n",
        "install.packages('tidyr')\n",
        "install.packages('reshape2')"
      ],
      "metadata": {
        "colab": {
          "base_uri": "https://localhost:8080/"
        },
        "id": "Ca433o_yUsgp",
        "outputId": "61d4ba54-4982-4ab9-d426-f9e655b66969"
      },
      "execution_count": 1,
      "outputs": [
        {
          "output_type": "stream",
          "name": "stderr",
          "text": [
            "Installing package into ‘/usr/local/lib/R/site-library’\n",
            "(as ‘lib’ is unspecified)\n",
            "\n",
            "Installing package into ‘/usr/local/lib/R/site-library’\n",
            "(as ‘lib’ is unspecified)\n",
            "\n",
            "Installing package into ‘/usr/local/lib/R/site-library’\n",
            "(as ‘lib’ is unspecified)\n",
            "\n",
            "Installing package into ‘/usr/local/lib/R/site-library’\n",
            "(as ‘lib’ is unspecified)\n",
            "\n",
            "also installing the dependency ‘stringr’\n",
            "\n",
            "\n",
            "Installing package into ‘/usr/local/lib/R/site-library’\n",
            "(as ‘lib’ is unspecified)\n",
            "\n",
            "also installing the dependency ‘plyr’\n",
            "\n",
            "\n"
          ]
        }
      ]
    },
    {
      "cell_type": "code",
      "source": [
        "# Carregando pacotes\n",
        "\n",
        "library(htmlwidgets)\n",
        "library(data.table)\n",
        "library(arules)\n",
        "#library(arulesViz)\n",
        "library(tidyr)\n",
        "library(reshape2)"
      ],
      "metadata": {
        "colab": {
          "base_uri": "https://localhost:8080/"
        },
        "id": "y2aj0qViUnxQ",
        "outputId": "d7d58cb1-ad0d-4f8a-a847-a9e7ab584fa4"
      },
      "execution_count": 2,
      "outputs": [
        {
          "output_type": "stream",
          "name": "stderr",
          "text": [
            "Loading required package: Matrix\n",
            "\n",
            "\n",
            "Attaching package: ‘arules’\n",
            "\n",
            "\n",
            "The following objects are masked from ‘package:base’:\n",
            "\n",
            "    abbreviate, write\n",
            "\n",
            "\n",
            "\n",
            "Attaching package: ‘tidyr’\n",
            "\n",
            "\n",
            "The following objects are masked from ‘package:Matrix’:\n",
            "\n",
            "    expand, pack, unpack\n",
            "\n",
            "\n",
            "\n",
            "Attaching package: ‘reshape2’\n",
            "\n",
            "\n",
            "The following object is masked from ‘package:tidyr’:\n",
            "\n",
            "    smiths\n",
            "\n",
            "\n",
            "The following objects are masked from ‘package:data.table’:\n",
            "\n",
            "    dcast, melt\n",
            "\n",
            "\n"
          ]
        }
      ]
    },
    {
      "cell_type": "markdown",
      "source": [
        "Suprimindo warnings"
      ],
      "metadata": {
        "id": "00lPzCBwU9cx"
      }
    },
    {
      "cell_type": "code",
      "source": [
        "options(war = -1)"
      ],
      "metadata": {
        "id": "PlXrBWE5U_U_"
      },
      "execution_count": 3,
      "outputs": []
    },
    {
      "cell_type": "markdown",
      "source": [
        "Extraindo dados"
      ],
      "metadata": {
        "id": "Fm-QNebgVIUg"
      }
    },
    {
      "cell_type": "code",
      "source": [
        "download.file('https://raw.githubusercontent.com/Fagner608/MBA_apriori_with_R/main/retail.csv', 'dados.csv')"
      ],
      "metadata": {
        "id": "LDEmZov9VH-6"
      },
      "execution_count": 4,
      "outputs": []
    },
    {
      "cell_type": "code",
      "source": [
        "#lendo dados\n",
        "\n",
        "dados = read.csv('dados.csv')\n",
        "\n",
        "head(dados)"
      ],
      "metadata": {
        "colab": {
          "base_uri": "https://localhost:8080/",
          "height": 286
        },
        "id": "tux7N2HSd9KD",
        "outputId": "ad81d708-ef4c-433b-96bf-b00424d5b8d1"
      },
      "execution_count": 8,
      "outputs": [
        {
          "output_type": "display_data",
          "data": {
            "text/html": [
              "<table class=\"dataframe\">\n",
              "<caption>A data.frame: 6 × 9</caption>\n",
              "<thead>\n",
              "\t<tr><th></th><th scope=col>X</th><th scope=col>InvoiceNo</th><th scope=col>StockCode</th><th scope=col>Description</th><th scope=col>Quantity</th><th scope=col>InvoiceDate</th><th scope=col>UnitPrice</th><th scope=col>CustomerID</th><th scope=col>Country</th></tr>\n",
              "\t<tr><th></th><th scope=col>&lt;int&gt;</th><th scope=col>&lt;chr&gt;</th><th scope=col>&lt;chr&gt;</th><th scope=col>&lt;chr&gt;</th><th scope=col>&lt;int&gt;</th><th scope=col>&lt;chr&gt;</th><th scope=col>&lt;dbl&gt;</th><th scope=col>&lt;int&gt;</th><th scope=col>&lt;chr&gt;</th></tr>\n",
              "</thead>\n",
              "<tbody>\n",
              "\t<tr><th scope=row>1</th><td>27</td><td>536370</td><td>22728</td><td>ALARM CLOCK BAKELIKE PINK      </td><td>24</td><td>2010-12-01 08:45:00</td><td>3.75</td><td>12583</td><td>France</td></tr>\n",
              "\t<tr><th scope=row>2</th><td>28</td><td>536370</td><td>22727</td><td>ALARM CLOCK BAKELIKE RED       </td><td>24</td><td>2010-12-01 08:45:00</td><td>3.75</td><td>12583</td><td>France</td></tr>\n",
              "\t<tr><th scope=row>3</th><td>29</td><td>536370</td><td>22726</td><td>ALARM CLOCK BAKELIKE GREEN     </td><td>12</td><td>2010-12-01 08:45:00</td><td>3.75</td><td>12583</td><td>France</td></tr>\n",
              "\t<tr><th scope=row>4</th><td>30</td><td>536370</td><td>21724</td><td>PANDA AND BUNNIES STICKER SHEET</td><td>12</td><td>2010-12-01 08:45:00</td><td>0.85</td><td>12583</td><td>France</td></tr>\n",
              "\t<tr><th scope=row>5</th><td>31</td><td>536370</td><td>21883</td><td>STARS GIFT TAPE                </td><td>24</td><td>2010-12-01 08:45:00</td><td>0.65</td><td>12583</td><td>France</td></tr>\n",
              "\t<tr><th scope=row>6</th><td>32</td><td>536370</td><td>10002</td><td>INFLATABLE POLITICAL GLOBE     </td><td>48</td><td>2010-12-01 08:45:00</td><td>0.85</td><td>12583</td><td>France</td></tr>\n",
              "</tbody>\n",
              "</table>\n"
            ],
            "text/markdown": "\nA data.frame: 6 × 9\n\n| <!--/--> | X &lt;int&gt; | InvoiceNo &lt;chr&gt; | StockCode &lt;chr&gt; | Description &lt;chr&gt; | Quantity &lt;int&gt; | InvoiceDate &lt;chr&gt; | UnitPrice &lt;dbl&gt; | CustomerID &lt;int&gt; | Country &lt;chr&gt; |\n|---|---|---|---|---|---|---|---|---|---|\n| 1 | 27 | 536370 | 22728 | ALARM CLOCK BAKELIKE PINK       | 24 | 2010-12-01 08:45:00 | 3.75 | 12583 | France |\n| 2 | 28 | 536370 | 22727 | ALARM CLOCK BAKELIKE RED        | 24 | 2010-12-01 08:45:00 | 3.75 | 12583 | France |\n| 3 | 29 | 536370 | 22726 | ALARM CLOCK BAKELIKE GREEN      | 12 | 2010-12-01 08:45:00 | 3.75 | 12583 | France |\n| 4 | 30 | 536370 | 21724 | PANDA AND BUNNIES STICKER SHEET | 12 | 2010-12-01 08:45:00 | 0.85 | 12583 | France |\n| 5 | 31 | 536370 | 21883 | STARS GIFT TAPE                 | 24 | 2010-12-01 08:45:00 | 0.65 | 12583 | France |\n| 6 | 32 | 536370 | 10002 | INFLATABLE POLITICAL GLOBE      | 48 | 2010-12-01 08:45:00 | 0.85 | 12583 | France |\n\n",
            "text/latex": "A data.frame: 6 × 9\n\\begin{tabular}{r|lllllllll}\n  & X & InvoiceNo & StockCode & Description & Quantity & InvoiceDate & UnitPrice & CustomerID & Country\\\\\n  & <int> & <chr> & <chr> & <chr> & <int> & <chr> & <dbl> & <int> & <chr>\\\\\n\\hline\n\t1 & 27 & 536370 & 22728 & ALARM CLOCK BAKELIKE PINK       & 24 & 2010-12-01 08:45:00 & 3.75 & 12583 & France\\\\\n\t2 & 28 & 536370 & 22727 & ALARM CLOCK BAKELIKE RED        & 24 & 2010-12-01 08:45:00 & 3.75 & 12583 & France\\\\\n\t3 & 29 & 536370 & 22726 & ALARM CLOCK BAKELIKE GREEN      & 12 & 2010-12-01 08:45:00 & 3.75 & 12583 & France\\\\\n\t4 & 30 & 536370 & 21724 & PANDA AND BUNNIES STICKER SHEET & 12 & 2010-12-01 08:45:00 & 0.85 & 12583 & France\\\\\n\t5 & 31 & 536370 & 21883 & STARS GIFT TAPE                 & 24 & 2010-12-01 08:45:00 & 0.65 & 12583 & France\\\\\n\t6 & 32 & 536370 & 10002 & INFLATABLE POLITICAL GLOBE      & 48 & 2010-12-01 08:45:00 & 0.85 & 12583 & France\\\\\n\\end{tabular}\n",
            "text/plain": [
              "  X  InvoiceNo StockCode Description                     Quantity\n",
              "1 27 536370    22728     ALARM CLOCK BAKELIKE PINK       24      \n",
              "2 28 536370    22727     ALARM CLOCK BAKELIKE RED        24      \n",
              "3 29 536370    22726     ALARM CLOCK BAKELIKE GREEN      12      \n",
              "4 30 536370    21724     PANDA AND BUNNIES STICKER SHEET 12      \n",
              "5 31 536370    21883     STARS GIFT TAPE                 24      \n",
              "6 32 536370    10002     INFLATABLE POLITICAL GLOBE      48      \n",
              "  InvoiceDate         UnitPrice CustomerID Country\n",
              "1 2010-12-01 08:45:00 3.75      12583      France \n",
              "2 2010-12-01 08:45:00 3.75      12583      France \n",
              "3 2010-12-01 08:45:00 3.75      12583      France \n",
              "4 2010-12-01 08:45:00 0.85      12583      France \n",
              "5 2010-12-01 08:45:00 0.65      12583      France \n",
              "6 2010-12-01 08:45:00 0.85      12583      France "
            ]
          },
          "metadata": {}
        }
      ]
    }
  ]
}